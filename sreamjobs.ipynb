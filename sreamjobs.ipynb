{
  "nbformat": 4,
  "nbformat_minor": 0,
  "metadata": {
    "colab": {
      "name": "sreamjobs.ipynb",
      "provenance": [],
      "authorship_tag": "ABX9TyOJGisIps4asvPOnN49vdSa",
      "include_colab_link": true
    },
    "kernelspec": {
      "name": "python3",
      "display_name": "Python 3"
    }
  },
  "cells": [
    {
      "cell_type": "markdown",
      "metadata": {
        "id": "view-in-github",
        "colab_type": "text"
      },
      "source": [
        "<a href=\"https://colab.research.google.com/github/BethanyJep/100DaysOfMlCode/blob/master/sreamjobs.ipynb\" target=\"_parent\"><img src=\"https://colab.research.google.com/assets/colab-badge.svg\" alt=\"Open In Colab\"/></a>"
      ]
    },
    {
      "cell_type": "code",
      "metadata": {
        "id": "FAxYGOy1Q-JA"
      },
      "source": [
        "#Getting the necessary libraries\n",
        "import tweepy as tweepy\n",
        "from tweepy import Stream\n",
        "from tweepy import OAuthHandler\n",
        "from tweepy.streaming import StreamListener\n",
        "import time\n",
        "import json\n",
        "import pandas as pd\n",
        "import matplotlib.pyplot as plt\n",
        "\n",
        "import csv\n",
        "import re #regular expression\n",
        "from textblob import TextBlob\n",
        "import string"
      ],
      "execution_count": 1,
      "outputs": []
    },
    {
      "cell_type": "code",
      "metadata": {
        "id": "2OmMt5zERb66"
      },
      "source": [
        "#consumer keys\n",
        "consumer_key = \"fslgtxGRaV0NooQSyV6bMO8JK\"\n",
        "consumer_secret = \"CQLaOZU9dhT2AALorcu2KxC9rfNpC4ifu0QvtwnDUlHvrEjTxE\"\n",
        "access_token = \"924336306481754113-J80n52buzVcvRag0bGI1jUVmaE8TxxY\"\n",
        "access_token_secret = \"jnAEuQlSXlFnilRbtiPMr1inhRhVMihBDZFNBeJDExqrE\""
      ],
      "execution_count": 2,
      "outputs": []
    },
    {
      "cell_type": "code",
      "metadata": {
        "id": "g-vEFs9itzZ4"
      },
      "source": [
        "from tweepy import API\n",
        "from tweepy import OAuthHandler\n",
        "\n",
        "# Consumer key authentication\n",
        "auth = OAuthHandler(consumer_key, consumer_secret)\n",
        "\n",
        "# Access key authentication\n",
        "auth.set_access_token(access_token, access_token_secret)\n",
        "\n",
        "# Set up the API with the authentication handler\n",
        "api = API(auth)"
      ],
      "execution_count": 3,
      "outputs": []
    },
    {
      "cell_type": "code",
      "metadata": {
        "id": "g5POgIX-_2p0"
      },
      "source": [
        "from tweepy.streaming import StreamListener\n",
        "import json\n",
        "import time\n",
        "import sys\n",
        "\n",
        "class SListener(StreamListener):\n",
        "    def __init__(self, api = None, fprefix = 'streamer'):\n",
        "        self.api = api or API()\n",
        "        self.counter = 0\n",
        "        self.fprefix = fprefix\n",
        "        self.output  = open('%s_%s.json' % (self.fprefix, time.strftime('%Y%m%d-%H%M%S')), 'w')\n",
        "\n",
        "\n",
        "    def on_data(self, data):\n",
        "        if  'in_reply_to_status' in data:\n",
        "            self.on_status(data)\n",
        "        elif 'delete' in data:\n",
        "            delete = json.loads(data)['delete']['status']\n",
        "            if self.on_delete(delete['id'], delete['user_id']) is False:\n",
        "                return False\n",
        "        elif 'limit' in data:\n",
        "            if self.on_limit(json.loads(data)['limit']['track']) is False:\n",
        "                return False\n",
        "        elif 'warning' in data:\n",
        "            warning = json.loads(data)['warnings']\n",
        "            print(\"WARNING: %s\" % warning['message'])\n",
        "            return\n",
        "\n",
        "\n",
        "    def on_status(self, status):\n",
        "        self.output.write(status)\n",
        "        self.counter += 1\n",
        "        if self.counter >= 20000:\n",
        "            self.output.close()\n",
        "            self.output  = open('%s_%s.json' % (self.fprefix, time.strftime('%Y%m%d-%H%M%S')), 'w')\n",
        "            self.counter = 0\n",
        "        return\n",
        "\n",
        "\n",
        "    def on_delete(self, status_id, user_id):\n",
        "        print(\"Delete notice\")\n",
        "        return\n",
        "\n",
        "\n",
        "    def on_limit(self, track):\n",
        "        print(\"WARNING: Limitation notice received, tweets missed: %d\" % track)\n",
        "        return\n",
        "\n",
        "\n",
        "    def on_error(self, status_code):\n",
        "        print('Encountered error with status code:', status_code)\n",
        "        return \n",
        "\n",
        "\n",
        "    def on_timeout(self):\n",
        "        print(\"Timeout, sleeping for 60 seconds...\")\n",
        "        time.sleep(60)\n",
        "        return "
      ],
      "execution_count": 4,
      "outputs": []
    },
    {
      "cell_type": "code",
      "metadata": {
        "id": "gY2RceqK0HxI",
        "outputId": "f18d61a2-1f1a-49b1-8b38-4cd9e35902f8",
        "colab": {
          "base_uri": "https://localhost:8080/",
          "height": 34
        }
      },
      "source": [
        "# Set up words to track\n",
        "keywords_to_track = [\"#IkoKaziKE\"]\n",
        "#, '#ikokazi', 'Iko Kazi KE','#ikokazike', '#PataKaziKE', 'my next client might be on your TL', '#KOT', '#KenyansOnTwitter', '#ShareMyHustle', '+254', '07', 'hiring', 'We are hiring '\n",
        "# Instantiate the SListener object \n",
        "listen = SListener(api)\n",
        "\n",
        "# Instantiate the Stream object\n",
        "stream = Stream(auth, listen)\n",
        "\n",
        "# Begin collecting data\n",
        "stream.filter(track = keywords_to_track, async=True)"
      ],
      "execution_count": 7,
      "outputs": [
        {
          "output_type": "stream",
          "text": [
            "Encountered error with status code: 420\n"
          ],
          "name": "stdout"
        }
      ]
    }
  ]
}