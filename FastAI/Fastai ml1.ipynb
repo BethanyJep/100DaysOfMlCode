{
 "cells": [
  {
   "cell_type": "markdown",
   "metadata": {},
   "source": [
    "# Introduction to Random Forests"
   ]
  },
  {
   "cell_type": "code",
   "execution_count": 1,
   "metadata": {},
   "outputs": [],
   "source": [
    "#Auto-update modules\n",
    "%load_ext autoreload\n",
    "%autoreload 2\n",
    "\n",
    "#displays plots inside the notebook\n",
    "%matplotlib inline"
   ]
  },
  {
   "cell_type": "code",
   "execution_count": 2,
   "metadata": {},
   "outputs": [],
   "source": [
    "from fastai.imports import *\n",
    "from fastai.structured import *\n",
    "\n",
    "from pandas_summary import DataFrameSummary\n",
    "from sklearn.ensemble import RandomForestRegressor\n",
    "from IPython.display import display\n",
    "\n",
    "from sklearn import metrics"
   ]
  },
  {
   "cell_type": "markdown",
   "metadata": {},
   "source": [
    "# Overview\n",
    "\n",
    "For this competition, you are predicting the sale price of bulldozers sold at auctions. The data for this competition is split into three parts:\n",
    "\n",
    "    Train.csv is the training set, which contains data through the end of 2011.\n",
    "    Valid.csv is the validation set, which contains data from January 1, 2012 - April 30, 2012. You make predictions on this set throughout the majority of the competition. Your score on this set is used to create the public leaderboard.\n",
    "    Test.csv is the test set, which won't be released until the last week of the competition. It contains data from May 1, 2012 - November 2012. Your score on the test set determines your final rank for the competition.\n",
    "\n",
    "The key fields are in train.csv are:\n",
    "\n",
    "    SalesID: the unique identifier of the sale\n",
    "    MachineID: the unique identifier of a machine. A machine can be sold multiple times\n",
    "    saleprice: what the machine sold for at auction (only provided in train.csv)\n",
    "    saledate: the date of the sale\n",
    "\n",
    "\n",
    "The goal of the contest is to predict the sale price of a particular piece of heavy equiment at auction based on it's usage, equipment type, and configuaration.  The data is sourced from auction result postings and includes information on usage and equipment configurations.\n",
    "\n",
    "Fast Iron is creating a \"blue book for bull dozers,\" for customers to value what their heavy equipment fleet is worth at auction."
   ]
  },
  {
   "cell_type": "code",
   "execution_count": null,
   "metadata": {},
   "outputs": [],
   "source": [
    "#importing datasets\n",
    "train = pd.read_csv('data/train.csv', low_memory=False, parse_dates=[\"saledate\"])\n",
    "train.head()"
   ]
  },
  {
   "cell_type": "code",
   "execution_count": null,
   "metadata": {},
   "outputs": [],
   "source": [
    "train.T"
   ]
  },
  {
   "cell_type": "code",
   "execution_count": null,
   "metadata": {},
   "outputs": [],
   "source": [
    "pip install -q fastai==0.6"
   ]
  },
  {
   "cell_type": "code",
   "execution_count": null,
   "metadata": {},
   "outputs": [],
   "source": [
    "test = pd.read_csv('https://storage.googleapis.com/kaggle-competitions-data/kaggle/3316/Test.csv?GoogleAccessId=web-data@kaggle-161607.iam.gserviceaccount.com&Expires=1563917599&Signature=Qp2ny2LTLaJf3OjyzsGE6JkxiT5dbG%2FXBQY5gGceG4RLSmD4LW1xQ2DuDjR0i5cPu1iaK37AQbhAihh8lJl%2BcvIQ2Bs67v%2FAOb%2FGQ3QNBSP2uWOTT4LF4Z8kx%2BmbuEKOyEsk5AWQoLOOAvCuEUM1kZVm%2B6vhhYlUmJ2tjrlM2CtNLH03%2FUTcd%2Bl7xqyT4WWbqWIGyV%2BmbK6LrGG9fj4Vg6IiCWxkejlBGCbqvTFqqVbNnpMCzzV2zxwoEKFtolNXCtpDOaJxC0wmy9JSF4BD5tscci%2FOzo3TdNstAS2enfj%2BULFV5rk%2F0Ectivy8x0nEdhrgeH%2FNcQIelDJD7sLp%2BA%3D%3D')\n",
    "test.head()"
   ]
  },
  {
   "cell_type": "code",
   "execution_count": null,
   "metadata": {},
   "outputs": [],
   "source": [
    "train.info().head()"
   ]
  },
  {
   "cell_type": "code",
   "execution_count": null,
   "metadata": {},
   "outputs": [],
   "source": [
    "def display_all(train):\n",
    "    with pd.option_context(\"display.max_rows\", 1000, \"display.max_columns\", 1000): \n",
    "        display(train)\n",
    "        \n",
    "train.head()"
   ]
  },
  {
   "cell_type": "code",
   "execution_count": null,
   "metadata": {},
   "outputs": [],
   "source": [
    "train.SalePrice = np.log(train.SalePrice)\n",
    "train.SalePrice.head()"
   ]
  },
  {
   "cell_type": "code",
   "execution_count": null,
   "metadata": {},
   "outputs": [],
   "source": [
    "# np.log(train.MachineHoursCurrentMeter)"
   ]
  },
  {
   "cell_type": "code",
   "execution_count": null,
   "metadata": {},
   "outputs": [],
   "source": [
    "# from sklearn.ensemble import RandomForestClassifier\n",
    "# rf = RandomForestRegressor(n_jobs=-1)\n",
    "# rf.fit(train.drop('SalePrice', axis=1), train.SalePrice)"
   ]
  },
  {
   "cell_type": "markdown",
   "metadata": {},
   "source": [
    "#### This dataset contains a mix of continuous and categorical variables.\n",
    "\n",
    "The following method extracts particular date fields from a complete datetime for the purpose of constructing categoricals. You should always consider this feature extraction step when working with date-time. Without expanding your date-time into these additional fields, you can't capture any trend/cyclical behavior as a function of time at any of these granularities.\n"
   ]
  },
  {
   "cell_type": "code",
   "execution_count": null,
   "metadata": {},
   "outputs": [],
   "source": [
    "fld = train.saledate\n",
    "fld.head(4)"
   ]
  },
  {
   "cell_type": "code",
   "execution_count": null,
   "metadata": {},
   "outputs": [],
   "source": [
    "fld.dt.year.head(4)"
   ]
  },
  {
   "cell_type": "code",
   "execution_count": null,
   "metadata": {},
   "outputs": [],
   "source": [
    "add_datepart(train, 'saledate')\n",
    "train.saleYear.head()"
   ]
  },
  {
   "cell_type": "code",
   "execution_count": null,
   "metadata": {},
   "outputs": [],
   "source": []
  },
  {
   "cell_type": "code",
   "execution_count": null,
   "metadata": {},
   "outputs": [],
   "source": [
    "train_cats(train)"
   ]
  },
  {
   "cell_type": "code",
   "execution_count": null,
   "metadata": {},
   "outputs": [],
   "source": [
    "train.UsageBand.cat.categories"
   ]
  },
  {
   "cell_type": "code",
   "execution_count": null,
   "metadata": {},
   "outputs": [],
   "source": [
    "train.UsageBand.cat.set_categories(['High', 'Medium', 'Low'], ordered=True, inplace=True)\n",
    "#Normally, pandas will continue displaying the text categories, while treating them as numerical data internally. \n",
    "# Optionally, we can replace the text categories with numbers, which will make this variable non-categorical, like so:.\n",
    "train.UsageBand = train.UsageBand.cat.codes"
   ]
  },
  {
   "cell_type": "code",
   "execution_count": null,
   "metadata": {},
   "outputs": [],
   "source": [
    "#We're still not quite done - for instance we have lots of missing values, which we can't pass directly to a random forest.\n",
    "display_all(train.isnull().sum().sort_index()/len(train))"
   ]
  },
  {
   "cell_type": "code",
   "execution_count": null,
   "metadata": {},
   "outputs": [],
   "source": [
    "df, y, nas = proc_df(train, 'SalePrice')"
   ]
  },
  {
   "cell_type": "code",
   "execution_count": null,
   "metadata": {},
   "outputs": [],
   "source": [
    "m = RandomForestRegressor(n_jobs=-1)\n",
    "m.fit(df, y)\n",
    "m.score(df,y)"
   ]
  },
  {
   "cell_type": "code",
   "execution_count": null,
   "metadata": {},
   "outputs": [],
   "source": []
  }
 ],
 "metadata": {
  "kernelspec": {
   "display_name": "Python 3",
   "language": "python",
   "name": "python3"
  },
  "language_info": {
   "codemirror_mode": {
    "name": "ipython",
    "version": 3
   },
   "file_extension": ".py",
   "mimetype": "text/x-python",
   "name": "python",
   "nbconvert_exporter": "python",
   "pygments_lexer": "ipython3",
   "version": "3.6.8"
  }
 },
 "nbformat": 4,
 "nbformat_minor": 2
}
