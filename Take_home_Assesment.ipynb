{
  "nbformat": 4,
  "nbformat_minor": 0,
  "metadata": {
    "kernelspec": {
      "display_name": "Python 3",
      "language": "python",
      "name": "python3"
    },
    "language_info": {
      "codemirror_mode": {
        "name": "ipython",
        "version": 3
      },
      "file_extension": ".py",
      "mimetype": "text/x-python",
      "name": "python",
      "nbconvert_exporter": "python",
      "pygments_lexer": "ipython3",
      "version": "3.7.3"
    },
    "colab": {
      "name": "Take home Assesment.ipynb",
      "provenance": [],
      "collapsed_sections": [],
      "include_colab_link": true
    }
  },
  "cells": [
    {
      "cell_type": "markdown",
      "metadata": {
        "id": "view-in-github",
        "colab_type": "text"
      },
      "source": [
        "<a href=\"https://colab.research.google.com/github/InnCreator/100DaysOfMlCode/blob/master/Take_home_Assesment.ipynb\" target=\"_parent\"><img src=\"https://colab.research.google.com/assets/colab-badge.svg\" alt=\"Open In Colab\"/></a>"
      ]
    },
    {
      "cell_type": "markdown",
      "metadata": {
        "id": "rsAj6gsnGjVm",
        "colab_type": "text"
      },
      "source": [
        "# Question 1\n",
        "Create a program that asks the user to enter their name and age. The program should then print\n",
        "out the name, year and age from the current year, in multiples of 7 until they reach 100 years.\n",
        "e.g. Using 2023 as the current year and my age being 77, the program should print as follows:\n",
        "\n",
        "Peter, in 2023 your age is 77 years\n",
        "\n",
        "Peter, in 2030 your age is 84 years\n",
        "\n",
        "Peter, in 2037 your age is 91 years\n",
        "\n",
        "Peter, in 2044 your age is 98 years\n",
        "\n",
        "Peter, in 2046 your age is 100 years"
      ]
    },
    {
      "cell_type": "code",
      "metadata": {
        "id": "H-WHMlDBGjV1",
        "colab_type": "code",
        "outputId": "8487c39c-62aa-4265-eef0-1434f4f4966a",
        "colab": {
          "base_uri": "https://localhost:8080/",
          "height": 146
        }
      },
      "source": [
        "def nameAge(age, year):\n",
        "\n",
        "  while age <= 100:\n",
        "    print('Peter, in ' + str(year) + ' your age is ' + str(age) + ' years')\n",
        "    age += 7\n",
        "    year += 7\n",
        "    while  100 < age < 107:\n",
        "      newAge = age - 100\n",
        "      age -= newAge\n",
        "      year -= newAge\n",
        "\n",
        "nameAge(int(input(\"Peter's age: \")), int(input(\"Current year: \")))"
      ],
      "execution_count": 1,
      "outputs": [
        {
          "output_type": "stream",
          "text": [
            "Peter's age: 77\n",
            "Current year: 2023\n",
            "Peter, in 2023 your age is 77 years\n",
            "Peter, in 2030 your age is 84 years\n",
            "Peter, in 2037 your age is 91 years\n",
            "Peter, in 2044 your age is 98 years\n",
            "Peter, in 2046 your age is 100 years\n"
          ],
          "name": "stdout"
        }
      ]
    },
    {
      "cell_type": "markdown",
      "metadata": {
        "id": "Z-YRzi7JGjWF",
        "colab_type": "text"
      },
      "source": [
        "# Question 2\n",
        "Write a program that takes a string and checks whether it is a valid IPv4 address. The program\n",
        "should return a boolean. Do not use regular expressions."
      ]
    },
    {
      "cell_type": "code",
      "metadata": {
        "id": "2ByjRe7qGjWH",
        "colab_type": "code",
        "colab": {
          "base_uri": "https://localhost:8080/",
          "height": 54
        },
        "outputId": "70fe9300-4927-4715-e690-d2a0fb7a8e49"
      },
      "source": [
        "import ipaddress\n",
        "\n",
        "def ipChecker(address):\n",
        "  decimalPlaces = address.split(\".\")\n",
        "\n",
        "  if len(decimalPlaces) != 4:\n",
        "    return \"Invalid IPv4 Address\"\n",
        "\n",
        "  else: \n",
        "    while len(decimalPlaces) == 4:\n",
        "      partA = int(decimalPlaces[0])\n",
        "      partB = int(decimalPlaces[1])\n",
        "      partC = int(decimalPlaces[2])\n",
        "      partD = int(decimalPlaces[3])\n",
        "      if partD < 0 or partC < 0 or partC < 0:\n",
        "        return \"Invalid IPv4 Address\"\n",
        "      elif partA > 255 or partB > 255 or partD > 255 or partC > 255:\n",
        "        return \"Invalid IPv4 Address\"\n",
        "      elif 0 <= partA <= 127:\n",
        "        return \"Class A IPv4 Address\"\n",
        "      elif 128 <= partA <= 191:\n",
        "        return \"Class B IPv4 Address\"\n",
        "      elif 192 <= partA <= 223:\n",
        "        return \"Class C IPv4 Address\"\n",
        "      elif 224 <= partA <= 239:\n",
        "        return \"Class D IPv4 Address\"\n",
        "      elif 240 <= partA <= 255:\n",
        "        return \"Class E IPv4 Address\"\n",
        "      else:\n",
        "        return \"Valid IPv4 Address\"\n",
        "\n",
        "address = input(\"Enter IPv4 Address: \")\n",
        "ipChecker(address)"
      ],
      "execution_count": 2,
      "outputs": [
        {
          "output_type": "stream",
          "text": [
            "Enter IPv4 Address: 255.54.45.4\n"
          ],
          "name": "stdout"
        },
        {
          "output_type": "execute_result",
          "data": {
            "text/plain": [
              "'Class E IPv4 Address'"
            ]
          },
          "metadata": {
            "tags": []
          },
          "execution_count": 2
        }
      ]
    },
    {
      "cell_type": "markdown",
      "metadata": {
        "id": "xyP7t4tTGjWN",
        "colab_type": "text"
      },
      "source": [
        "# Question 3\n",
        "A cylinder has the following properties:\n",
        "\n",
        "● Radius\n",
        "\n",
        "● Height\n",
        "\n",
        "● Open or Closed\n",
        "\n",
        "Model a class with methods that can calculate the following accurately:\n",
        "\n",
        "● Surface area of a cylinder\n",
        "\n",
        "● Volume of a cylinder"
      ]
    },
    {
      "cell_type": "code",
      "metadata": {
        "id": "3WyHlYpKGjWP",
        "colab_type": "code",
        "colab": {
          "base_uri": "https://localhost:8080/",
          "height": 72
        },
        "outputId": "11689af8-64df-4da0-ad07-5429ec742752"
      },
      "source": [
        "import math\n",
        "\n",
        "class cylinder():\n",
        "  def __init__(self, radius, height):\n",
        "    self.radius = radius\n",
        "    self.height = height\n",
        "\n",
        "  def surfaceArea(self):\n",
        "    return (math.pi * 2 * (self.radius**2)) + (2 * math.pi * self.radius * self.height)\n",
        "\n",
        "  def volume(self):\n",
        "    return math.pi * (self.radius**2) * self.height\n",
        "\n",
        "r = int(input(\"Cylinder's radius: \"))\n",
        "h = int(input(\"Cylinder's height: \"))\n",
        "\n",
        "obj = cylinder(r, h)\n",
        "\n",
        "print(\"Surface Area of cylinder: \", obj.surfaceArea(), \"Volume of cylinder: \", obj.volume())"
      ],
      "execution_count": 3,
      "outputs": [
        {
          "output_type": "stream",
          "text": [
            "Cylinder's radius: 21\n",
            "Cylinder's height: 78\n",
            "Surface Area of cylinder:  13062.74225362636 Volume of cylinder:  108064.5040981817\n"
          ],
          "name": "stdout"
        }
      ]
    }
  ]
}