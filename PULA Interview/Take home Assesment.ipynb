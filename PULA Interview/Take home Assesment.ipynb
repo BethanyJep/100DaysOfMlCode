{
 "cells": [
  {
   "cell_type": "markdown",
   "metadata": {},
   "source": [
    "# Question 1\n",
    "Create a program that asks the user to enter their name and age. The program should then print\n",
    "out the name, year and age from the current year, in multiples of 7 until they reach 100 years.\n",
    "e.g. Using 2023 as the current year and my age being 77, the program should print as follows:\n",
    "\n",
    "Peter, in 2023 your age is 77 years\n",
    "\n",
    "Peter, in 2030 your age is 84 years\n",
    "\n",
    "Peter, in 2037 your age is 91 years\n",
    "\n",
    "Peter, in 2044 your age is 98 years\n",
    "\n",
    "Peter, in 2046 your age is 100 years"
   ]
  },
  {
   "cell_type": "code",
   "execution_count": 30,
   "metadata": {},
   "outputs": [
    {
     "name": "stdin",
     "output_type": "stream",
     "text": [
      " 77\n",
      " 2023\n"
     ]
    },
    {
     "name": "stdout",
     "output_type": "stream",
     "text": [
      "Peter, in 2023 your age is 77 years\n",
      "Peter, in 100 your age is 84 years\n",
      "Peter, in 100 your age is 91 years\n",
      "Peter, in 100 your age is 98 years\n"
     ]
    }
   ],
   "source": [
    "def nameAge(age, year):\n",
    "    while age <= 100:\n",
    "        print('Peter, in ' + str(year) + ' your age is ' + str(age) + ' years')\n",
    "        age += 7\n",
    "        year += 7\n",
    "        year = 100\n",
    "\n",
    "nameAge(int(input()), int(input()))"
   ]
  },
  {
   "cell_type": "markdown",
   "metadata": {},
   "source": [
    "# Question 2\n",
    "Write a program that takes a string and checks whether it is a valid IPv4 address. The program\n",
    "should return a boolean. Do not use regular expressions."
   ]
  },
  {
   "cell_type": "code",
   "execution_count": null,
   "metadata": {},
   "outputs": [],
   "source": [
    "def stringChecker(address):\n",
    "    if \n",
    "    \n",
    "nameAge(int(input())"
   ]
  },
  {
   "cell_type": "markdown",
   "metadata": {},
   "source": [
    "# Question 3\n",
    "A cylinder has the following properties:\n",
    "\n",
    "● Radius\n",
    "\n",
    "● Height\n",
    "\n",
    "● Open or Closed\n",
    "\n",
    "Model a class with methods that can calculate the following accurately:\n",
    "\n",
    "● Surface area of a cylinder\n",
    "\n",
    "● Volume of a cylinder"
   ]
  },
  {
   "cell_type": "code",
   "execution_count": null,
   "metadata": {},
   "outputs": [],
   "source": []
  }
 ],
 "metadata": {
  "kernelspec": {
   "display_name": "Python 3",
   "language": "python",
   "name": "python3"
  },
  "language_info": {
   "codemirror_mode": {
    "name": "ipython",
    "version": 3
   },
   "file_extension": ".py",
   "mimetype": "text/x-python",
   "name": "python",
   "nbconvert_exporter": "python",
   "pygments_lexer": "ipython3",
   "version": "3.7.3"
  }
 },
 "nbformat": 4,
 "nbformat_minor": 2
}
