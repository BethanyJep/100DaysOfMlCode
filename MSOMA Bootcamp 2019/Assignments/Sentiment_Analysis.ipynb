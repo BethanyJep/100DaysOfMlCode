{
 "cells": [
  {
   "cell_type": "markdown",
   "metadata": {
    "colab_type": "text",
    "id": "view-in-github"
   },
   "source": [
    "<a href=\"https://colab.research.google.com/github/InnCreator/100DaysOfMlCode/blob/master/Sentiment_Analysis.ipynb\" target=\"_parent\"><img src=\"https://colab.research.google.com/assets/colab-badge.svg\" alt=\"Open In Colab\"/></a>"
   ]
  },
  {
   "cell_type": "code",
   "execution_count": 1,
   "metadata": {
    "colab": {
     "base_uri": "https://localhost:8080/",
     "height": 201
    },
    "colab_type": "code",
    "id": "IiGJ3HXHHUDm",
    "outputId": "169df539-71c0-47b8-8119-4986394a1f64"
   },
   "outputs": [
    {
     "name": "stdout",
     "output_type": "stream",
     "text": [
      "Requirement already satisfied: tweepy in /usr/local/lib/python3.6/dist-packages (3.6.0)\n",
      "Requirement already satisfied: requests-oauthlib>=0.7.0 in /usr/local/lib/python3.6/dist-packages (from tweepy) (1.2.0)\n",
      "Requirement already satisfied: six>=1.10.0 in /usr/local/lib/python3.6/dist-packages (from tweepy) (1.12.0)\n",
      "Requirement already satisfied: requests>=2.11.1 in /usr/local/lib/python3.6/dist-packages (from tweepy) (2.21.0)\n",
      "Requirement already satisfied: PySocks>=1.5.7 in /usr/local/lib/python3.6/dist-packages (from tweepy) (1.7.0)\n",
      "Requirement already satisfied: oauthlib>=3.0.0 in /usr/local/lib/python3.6/dist-packages (from requests-oauthlib>=0.7.0->tweepy) (3.0.1)\n",
      "Requirement already satisfied: idna<2.9,>=2.5 in /usr/local/lib/python3.6/dist-packages (from requests>=2.11.1->tweepy) (2.8)\n",
      "Requirement already satisfied: urllib3<1.25,>=1.21.1 in /usr/local/lib/python3.6/dist-packages (from requests>=2.11.1->tweepy) (1.24.3)\n",
      "Requirement already satisfied: certifi>=2017.4.17 in /usr/local/lib/python3.6/dist-packages (from requests>=2.11.1->tweepy) (2019.6.16)\n",
      "Requirement already satisfied: chardet<3.1.0,>=3.0.2 in /usr/local/lib/python3.6/dist-packages (from requests>=2.11.1->tweepy) (3.0.4)\n"
     ]
    }
   ],
   "source": [
    "pip install tweepy\n"
   ]
  },
  {
   "cell_type": "markdown",
   "metadata": {
    "colab_type": "text",
    "id": "Q4aDZwgFHgnD"
   },
   "source": [
    "#Harvesting Tweets"
   ]
  },
  {
   "cell_type": "code",
   "execution_count": null,
   "metadata": {
    "colab": {},
    "colab_type": "code",
    "id": "ki6FdmgGHaky"
   },
   "outputs": [],
   "source": [
    "import tweepy # https://github.com/tweepy/tweepy\n",
    "import csv # Write csv files"
   ]
  },
  {
   "cell_type": "code",
   "execution_count": null,
   "metadata": {
    "colab": {},
    "colab_type": "code",
    "id": "OhnR_uEhHoMf"
   },
   "outputs": [],
   "source": [
    "#Twitter API credentials\n",
    "consumer_key = 'WI8UeOBL4lrQbYlCwh5ZEsJki'\n",
    "consumer_secret = '2epDMRUMatoLrJmrcW9WFQXE2qaiHA608ScuMYYFSyrfBjNK4R'\n",
    "access_key = '924336306481754113-ybsCoMFIIK84VjGFCRX9KhqUYA7aV3E'\n",
    "access_secret = 'oNU93zmzkgKqhbUeDPxwyisi1cqTuP4LVGQfnmTT9OhG1'"
   ]
  },
  {
   "cell_type": "code",
   "execution_count": null,
   "metadata": {
    "colab": {},
    "colab_type": "code",
    "id": "kFGTmk4ZHt9x"
   },
   "outputs": [],
   "source": [
    "usernames = ['WilliamsRuto', 'RailaOdinga']"
   ]
  },
  {
   "cell_type": "code",
   "execution_count": null,
   "metadata": {
    "colab": {},
    "colab_type": "code",
    "id": "DaqOQBWZI3q2"
   },
   "outputs": [],
   "source": [
    "# Twitter only allows access to a users most recent 3240 tweets with this method\n",
    "\n",
    "def get_all_tweets(screen_name):\n",
    "    \n",
    "    #authorize twitter, initialize tweepy\n",
    "    auth = tweepy.OAuthHandler(consumer_key, consumer_secret)\n",
    "    auth.set_access_token(access_key, access_secret)\n",
    "    api = tweepy.API(auth)\n",
    "     \n",
    "    #initialize a list to hold all the tweepy Tweets\n",
    "    alltweets = []  \n",
    "     \n",
    "    #make initial request for most recent tweets (200 is the maximum allowed count)\n",
    "    new_tweets = api.user_timeline(screen_name = screen_name,count=200)\n",
    "     \n",
    "    #save most recent tweets\n",
    "    alltweets.extend(new_tweets)\n",
    "     \n",
    "    #save the id of the oldest tweet less one\n",
    "    oldest = alltweets[-1].id - 1\n",
    "     \n",
    "    #keep grabbing tweets until there are no tweets left to grab\n",
    "    while len(new_tweets) > 0:\n",
    "        print(\"\\tGetting tweets before %s\" % (oldest))\n",
    "         \n",
    "        #all subsiquent requests use the max_id param to prevent duplicates\n",
    "        new_tweets = api.user_timeline(screen_name = screen_name,count=200,max_id=oldest)\n",
    "\n",
    "         \n",
    "        #save most recent tweets\n",
    "        alltweets.extend(new_tweets)\n",
    "         \n",
    "        #update the id of the oldest tweet less one\n",
    "        oldest = alltweets[-1].id - 1\n",
    "         \n",
    "        print(\"\\t...%s tweets downloaded so far\" % (len(alltweets)))\n",
    "        # transform the tweepy tweets into a 2D array that will populate the csv\n",
    "        outtweets = [[tweet.id_str, tweet.created_at, tweet.text.encode(\"utf-8\")] for tweet in alltweets]\n",
    "                 \n",
    "        #write the csv\n",
    "        with open('datasets/{}_tweets.csv'.format(screen_name), 'a') as f:\n",
    "                writer = csv.writer(f)\n",
    "                #writer.writerow([\"id\",\"created_at\",\"text\"])\n",
    "                writer.writerows(outtweets)\n",
    "                #pass"
   ]
  },
  {
   "cell_type": "code",
   "execution_count": 6,
   "metadata": {
    "colab": {
     "base_uri": "https://localhost:8080/",
     "height": 237
    },
    "colab_type": "code",
    "id": "psJZXA6zI9bH",
    "outputId": "45d18825-79aa-4126-c4c4-3fe104afea36"
   },
   "outputs": [
    {
     "name": "stdout",
     "output_type": "stream",
     "text": [
      "\n",
      "Getting @WilliamsRuto's tweets\n",
      "\n",
      "\tGetting tweets before 1132259011464781824\n",
      "\t...400 tweets downloaded so far\n",
      "\tError! Failed to fetch tweets for WilliamsRuto\n",
      "\n",
      "Getting @RailaOdinga's tweets\n",
      "\n",
      "\tGetting tweets before 1075010613640921087\n",
      "\t...398 tweets downloaded so far\n",
      "\tError! Failed to fetch tweets for RailaOdinga\n"
     ]
    }
   ],
   "source": [
    " for username in usernames:\n",
    "            try:\n",
    "                    #pass in the username of the account you want to download\n",
    "                    print(\"\\nGetting @{}'s tweets\\n\".format(username))\n",
    "                    get_all_tweets(username)\n",
    "            except:\n",
    "                    print('\\tError! Failed to fetch tweets for {}'.format(username))"
   ]
  },
  {
   "cell_type": "markdown",
   "metadata": {
    "colab_type": "text",
    "id": "itCgpwWoJEGU"
   },
   "source": [
    "#Author Attribution"
   ]
  },
  {
   "cell_type": "code",
   "execution_count": null,
   "metadata": {
    "colab": {},
    "colab_type": "code",
    "id": "QmdLln9xJBta"
   },
   "outputs": [],
   "source": [
    "# Imports\n",
    "import numpy as np\n",
    "import pandas as pd\n",
    "import matplotlib.pyplot as plt\n",
    "from sklearn.feature_extraction.text import CountVectorizer,TfidfTransformer\n",
    "from sklearn.utils import shuffle\n",
    "from sklearn import metrics\n",
    "from sklearn.linear_model import LogisticRegression\n",
    "from sklearn.model_selection import train_test_split\n"
   ]
  },
  {
   "cell_type": "markdown",
   "metadata": {
    "colab_type": "text",
    "id": "wNdIZsmsJm3Z"
   },
   "source": [
    "# Train Data"
   ]
  },
  {
   "cell_type": "markdown",
   "metadata": {
    "colab_type": "text",
    "id": "w3Lkf3dfJqc1"
   },
   "source": [
    "##Load Data"
   ]
  },
  {
   "cell_type": "code",
   "execution_count": null,
   "metadata": {
    "colab": {},
    "colab_type": "code",
    "id": "R-ZNSVu8Pwnj"
   },
   "outputs": [],
   "source": []
  }
 ],
 "metadata": {
  "colab": {
   "include_colab_link": true,
   "name": "Sentiment Analysis.ipynb",
   "provenance": [],
   "version": "0.3.2"
  },
  "kernelspec": {
   "display_name": "Python 3",
   "language": "python",
   "name": "python3"
  },
  "language_info": {
   "codemirror_mode": {
    "name": "ipython",
    "version": 3
   },
   "file_extension": ".py",
   "mimetype": "text/x-python",
   "name": "python",
   "nbconvert_exporter": "python",
   "pygments_lexer": "ipython3",
   "version": "3.7.3"
  }
 },
 "nbformat": 4,
 "nbformat_minor": 2
}
