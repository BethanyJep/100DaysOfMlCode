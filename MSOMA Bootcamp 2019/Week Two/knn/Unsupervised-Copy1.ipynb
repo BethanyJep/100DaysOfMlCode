{
 "cells": [
  {
   "cell_type": "markdown",
   "metadata": {},
   "source": [
    "## Introduction\n",
    "Machine learning in general can be divided into three distinct groups"
   ]
  },
  {
   "cell_type": "markdown",
   "metadata": {},
   "source": [
    "![image](Ml.png)"
   ]
  },
  {
   "cell_type": "markdown",
   "metadata": {},
   "source": [
    "Reinforcement learning is a distinct category of machine learning that looks at the training of an agent to take actions in an environment. The agent is trained through a set of rewards and penalties. Reinforcement learning is popular in areas such as gaming and robotics. \n",
    "\n",
    "In supervised learning, a model is provided with examples of each class. It is trained to learn the best mapping of the input to the output, and can consequently be used in tasks such as classification and regression.  \n",
    "\n",
    "In unsupervised learning the training data is unlabelled. In supervised learning, we start off knowing the groups or categories that each data element belongs to. In unsupervised learning, the goal is to discover these categories. \n",
    "\n",
    "\n",
    "#### some applications of unsupervised learning\n",
    "1. Market segmentation for targeting appropriate customers\n",
    "2. anomaly/fraud detection in banking sectors\n",
    "3. gene clustering for grouping genes with similar expression levels\n"
   ]
  },
  {
   "cell_type": "markdown",
   "metadata": {},
   "source": [
    "## Implementation of K-means Clustering \n",
    "### Introduction\n",
    "K- Means clustering algorithm is one of the most popular clustering techniques. It produces hard, flat and  polythetic clusters:\n",
    "##### Hard vs Soft Clusters\n",
    "In hard clustering, the members of a subgroup can only belong to one group. In soft clustering, members can belong to multiple subgroups with a varying degree of strength.\n",
    "##### Monothetic vs Polythetic Clustering\n",
    "Monothetic clusters are those where membership in a cluster is determined by the absence or presence of a single attribute. Polythetic clustering uses more than one variable.\n",
    "\n",
    "\n",
    "\n",
    "The K-Means algorithm works by creating clusters around centroids.\n",
    "K-Means requires us to specify the number of clusters as a variable (K). It is important to note that the number of clusters specified greatly affects the performance of the K-means algorithm. Deciding the number of clusters can be informed by domain knowledge. In situations where this is not available there are two techniques we can use to help us decide on the right  number of clusters.\n"
   ]
  },
  {
   "cell_type": "markdown",
   "metadata": {},
   "source": [
    "### Deciding the number of clusters\n",
    "Deciding the number of clusters can be informed by domain knowledge. In situations where this is not available there are two techniques we can use to help us decide on the right  number of clusters.\n",
    "\n",
    "\n",
    "1. Exploratory Data Analysis using Scatter Plots\n",
    "2. Elbow Method"
   ]
  },
  {
   "cell_type": "markdown",
   "metadata": {},
   "source": [
    "## How it works: \n",
    "\n",
    "1. Start by specifying the number of clusters as an input K\n",
    "2. Initialize K random centroids based on data points in your data.\n",
    "3. Repeat:\n",
    "    a. Cluster assignment: \n",
    "        i. For each point, find the nearest centroid and assign it to that cluster. To find the nearest centroid use one of the distance metrics discussed above such as Euclidean Distance. \n",
    "    b. Move Centroid: \n",
    "        i. Adjust each centroid so that it minimizes within cluster variance. (e.g the mean)\n",
    "4. Stop after a predetermined number of iterations or after Cluster Assignment stops making any changes.\n"
   ]
  },
  {
   "cell_type": "markdown",
   "metadata": {},
   "source": [
    "#### flowchart\n",
    "![image](flowchart.png)"
   ]
  },
  {
   "cell_type": "markdown",
   "metadata": {},
   "source": [
    "## Example"
   ]
  },
  {
   "cell_type": "markdown",
   "metadata": {},
   "source": [
    "Assume \n",
    "\n",
    "![image](Med.png)"
   ]
  },
  {
   "cell_type": "markdown",
   "metadata": {},
   "source": [
    "![image](Med2.png)"
   ]
  },
  {
   "cell_type": "markdown",
   "metadata": {},
   "source": [
    "Picking the centroids\n",
    "\n",
    "![image](Med3.png)"
   ]
  },
  {
   "cell_type": "markdown",
   "metadata": {},
   "source": [
    "Iterative stage\n",
    "\n",
    "![image](iter1.png)\n",
    "\n",
    "![image](medlast.png)\n"
   ]
  },
  {
   "cell_type": "markdown",
   "metadata": {},
   "source": [
    "## Implementation in R\n"
   ]
  },
  {
   "cell_type": "markdown",
   "metadata": {},
   "source": [
    "#### Dataset:\n",
    "For this exercise, we will use a publicly available dataset that looks at the arrests per state within the US in 1973. The data has 4 columns and 50 rows "
   ]
  },
  {
   "cell_type": "code",
   "execution_count": 26,
   "metadata": {},
   "outputs": [
    {
     "name": "stderr",
     "output_type": "stream",
     "text": [
      "Skipping install of 'factoextra' from a github remote, the SHA1 (1012e1b5) has not changed since last install.\n",
      "  Use `force = TRUE` to force installation\n"
     ]
    }
   ],
   "source": [
    " \n",
    "if(!require(devtools)) install.packages(\"devtools\")\n",
    "devtools::install_github(\"kassambara/factoextra\")\n",
    " \n",
    "\n",
    "##load libraries\n",
    "library(cluster)   \n",
    "library(factoextra) # used 4 visualization unlike earlier where we used it for correlation \n"
   ]
  },
  {
   "cell_type": "code",
   "execution_count": 2,
   "metadata": {},
   "outputs": [],
   "source": [
    "#load data\n",
    "df <- USArrests\n"
   ]
  },
  {
   "cell_type": "code",
   "execution_count": 7,
   "metadata": {},
   "outputs": [],
   "source": [
    "#Remove any missing data\n",
    "df <-  na.omit(df)"
   ]
  },
  {
   "cell_type": "code",
   "execution_count": 8,
   "metadata": {},
   "outputs": [],
   "source": [
    "#Scale and standardize the data using the R scale function\n",
    "df <- scale(df)"
   ]
  },
  {
   "cell_type": "code",
   "execution_count": 12,
   "metadata": {},
   "outputs": [
    {
     "name": "stdout",
     "output_type": "stream",
     "text": [
      "List of 9\n",
      " $ cluster     : Named int [1:50] 3 3 3 2 3 3 2 2 3 3 ...\n",
      "  ..- attr(*, \"names\")= chr [1:50] \"Alabama\" \"Alaska\" \"Arizona\" \"Arkansas\" ...\n",
      " $ centers     : num [1:3, 1:4] -0.962 -0.447 1.005 -1.107 -0.347 ...\n",
      "  ..- attr(*, \"dimnames\")=List of 2\n",
      "  .. ..$ : chr [1:3] \"1\" \"2\" \"3\"\n",
      "  .. ..$ : chr [1:4] \"Murder\" \"Assault\" \"UrbanPop\" \"Rape\"\n",
      " $ totss       : num 196\n",
      " $ withinss    : num [1:3] 12 19.6 46.7\n",
      " $ tot.withinss: num 78.3\n",
      " $ betweenss   : num 118\n",
      " $ size        : int [1:3] 13 17 20\n",
      " $ iter        : int 3\n",
      " $ ifault      : int 0\n",
      " - attr(*, \"class\")= chr \"kmeans\"\n"
     ]
    }
   ],
   "source": [
    "\n",
    "k3 <- kmeans(df, centers = 3, nstart = 20)\n",
    "str(k3)\n"
   ]
  },
  {
   "cell_type": "markdown",
   "metadata": {},
   "source": [
    "\n",
    "\n",
    "\n",
    "\n",
    "##### Printing out the kmeans object as in the example above returns the following elements.\n",
    "1.\n",
    "cluster - \n",
    "A vector of integers (from 1:k) indicating the cluster to which each point is allocated.\n",
    "\n",
    "2.\n",
    "centers - \n",
    "A matrix of cluster centres.\n",
    "\n",
    "3.\n",
    "totss - \n",
    "Total sum of squares.\n",
    "\n",
    "4.\n",
    "withinss - \n",
    "Vector of within-cluster sum of squares, one component per cluster.\n",
    "\n",
    "5.\n",
    "tot.withinss - \n",
    "Total within-cluster sum of squares, i.e. sum(withinss).\n",
    "\n",
    "6.\n",
    "betweenss - \n",
    "The between-cluster sum of squares, i.e. totss-tot.withinss.\n",
    "\n",
    "7.\n",
    "size - \n",
    "The number of points in each cluster.\n",
    "\n",
    "8.\n",
    "iter - \n",
    "The number of (outer) iterations.\n",
    "\n",
    "9\n",
    "ifault - \n",
    "integer: indicator of a possible algorithm problem – for experts.\n",
    "\n",
    "\n",
    "\n",
    "\n",
    "\n",
    "\n",
    "\n",
    "\n"
   ]
  },
  {
   "cell_type": "code",
   "execution_count": 13,
   "metadata": {},
   "outputs": [
    {
     "data": {
      "text/plain": [
       "K-means clustering with 3 clusters of sizes 13, 17, 20\n",
       "\n",
       "Cluster means:\n",
       "      Murder    Assault   UrbanPop       Rape\n",
       "1 -0.9615407 -1.1066010 -0.9301069 -0.9667633\n",
       "2 -0.4469795 -0.3465138  0.4788049 -0.2571398\n",
       "3  1.0049340  1.0138274  0.1975853  0.8469650\n",
       "\n",
       "Clustering vector:\n",
       "       Alabama         Alaska        Arizona       Arkansas     California \n",
       "             3              3              3              2              3 \n",
       "      Colorado    Connecticut       Delaware        Florida        Georgia \n",
       "             3              2              2              3              3 \n",
       "        Hawaii          Idaho       Illinois        Indiana           Iowa \n",
       "             2              1              3              2              1 \n",
       "        Kansas       Kentucky      Louisiana          Maine       Maryland \n",
       "             2              1              3              1              3 \n",
       " Massachusetts       Michigan      Minnesota    Mississippi       Missouri \n",
       "             2              3              1              3              3 \n",
       "       Montana       Nebraska         Nevada  New Hampshire     New Jersey \n",
       "             1              1              3              1              2 \n",
       "    New Mexico       New York North Carolina   North Dakota           Ohio \n",
       "             3              3              3              1              2 \n",
       "      Oklahoma         Oregon   Pennsylvania   Rhode Island South Carolina \n",
       "             2              2              2              2              3 \n",
       "  South Dakota      Tennessee          Texas           Utah        Vermont \n",
       "             1              3              3              2              1 \n",
       "      Virginia     Washington  West Virginia      Wisconsin        Wyoming \n",
       "             2              2              1              1              2 \n",
       "\n",
       "Within cluster sum of squares by cluster:\n",
       "[1] 11.95246 19.62285 46.74796\n",
       " (between_SS / total_SS =  60.0 %)\n",
       "\n",
       "Available components:\n",
       "\n",
       "[1] \"cluster\"      \"centers\"      \"totss\"        \"withinss\"     \"tot.withinss\"\n",
       "[6] \"betweenss\"    \"size\"         \"iter\"         \"ifault\"      "
      ]
     },
     "metadata": {},
     "output_type": "display_data"
    }
   ],
   "source": [
    "k3"
   ]
  },
  {
   "cell_type": "code",
   "execution_count": 25,
   "metadata": {},
   "outputs": [],
   "source": [
    "##devtools::install_github(\"r-lib/rlang\", build_vignettes = TRUE)\n",
    "#solves the below error\n",
    "# installs rlang package\n"
   ]
  },
  {
   "cell_type": "code",
   "execution_count": 31,
   "metadata": {},
   "outputs": [
    {
     "ename": "ERROR",
     "evalue": "Error in loadNamespace(i, c(lib.loc, .libPaths()), versionCheck = vI[[i]]): namespace 'rlang' 0.3.4 is already loaded, but >= 0.4.0 is required\n",
     "output_type": "error",
     "traceback": [
      "Error in loadNamespace(i, c(lib.loc, .libPaths()), versionCheck = vI[[i]]): namespace 'rlang' 0.3.4 is already loaded, but >= 0.4.0 is required\nTraceback:\n",
      "1. fviz_cluster(k3, data = df)",
      "2. ggpubr::ggscatter",
      "3. getExportedValue(pkg, name)",
      "4. asNamespace(ns)",
      "5. getNamespace(ns)",
      "6. loadNamespace(name)",
      "7. namespaceImportFrom(ns, loadNamespace(j <- i[[1L]], c(lib.loc, \n .     .libPaths()), versionCheck = vI[[j]]), i[[2L]], from = package)",
      "8. asNamespace(ns)",
      "9. loadNamespace(j <- i[[1L]], c(lib.loc, .libPaths()), versionCheck = vI[[j]])",
      "10. namespaceImport(ns, loadNamespace(i, c(lib.loc, .libPaths()), \n  .     versionCheck = vI[[i]]), from = package)",
      "11. loadNamespace(i, c(lib.loc, .libPaths()), versionCheck = vI[[i]])",
      "12. stop(gettextf(\"namespace %s %s is already loaded, but %s %s is required\", \n  .     sQuote(package), current, zop, zversion), domain = NA)"
     ]
    }
   ],
   "source": [
    "fviz_cluster(k3, data = df)"
   ]
  },
  {
   "cell_type": "markdown",
   "metadata": {},
   "source": []
  },
  {
   "cell_type": "markdown",
   "metadata": {},
   "source": [
    "Expected output\n",
    "\n",
    "![image](Med.png)"
   ]
  },
  {
   "cell_type": "code",
   "execution_count": null,
   "metadata": {},
   "outputs": [],
   "source": []
  },
  {
   "cell_type": "code",
   "execution_count": null,
   "metadata": {},
   "outputs": [],
   "source": []
  },
  {
   "cell_type": "code",
   "execution_count": null,
   "metadata": {},
   "outputs": [],
   "source": []
  }
 ],
 "metadata": {
  "kernelspec": {
   "display_name": "Python 3",
   "language": "python",
   "name": "python3"
  },
  "language_info": {
   "codemirror_mode": {
    "name": "ipython",
    "version": 3
   },
   "file_extension": ".py",
   "mimetype": "text/x-python",
   "name": "python",
   "nbconvert_exporter": "python",
   "pygments_lexer": "ipython3",
   "version": "3.7.3"
  }
 },
 "nbformat": 4,
 "nbformat_minor": 2
}
