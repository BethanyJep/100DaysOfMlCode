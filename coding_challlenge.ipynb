{
  "nbformat": 4,
  "nbformat_minor": 0,
  "metadata": {
    "colab": {
      "name": "coding challlenge.ipynb",
      "provenance": [],
      "authorship_tag": "ABX9TyMwUdH/0xUmfWk3aBvJdCl/",
      "include_colab_link": true
    },
    "kernelspec": {
      "name": "python3",
      "display_name": "Python 3"
    }
  },
  "cells": [
    {
      "cell_type": "markdown",
      "metadata": {
        "id": "view-in-github",
        "colab_type": "text"
      },
      "source": [
        "<a href=\"https://colab.research.google.com/github/BethanyJep/TonsOfMlCode/blob/master/coding_challlenge.ipynb\" target=\"_parent\"><img src=\"https://colab.research.google.com/assets/colab-badge.svg\" alt=\"Open In Colab\"/></a>"
      ]
    },
    {
      "cell_type": "code",
      "metadata": {
        "colab": {
          "base_uri": "https://localhost:8080/"
        },
        "id": "UfYUJIcifcV7",
        "outputId": "d1766ed8-209b-481f-f150-86e961f95dc3"
      },
      "source": [
        "x = 2\r\n",
        "\r\n",
        "while x < 5:\r\n",
        "    print(x)\r\n",
        "    x = x + 1"
      ],
      "execution_count": null,
      "outputs": [
        {
          "output_type": "stream",
          "text": [
            "2\n",
            "3\n",
            "4\n"
          ],
          "name": "stdout"
        }
      ]
    },
    {
      "cell_type": "code",
      "metadata": {
        "colab": {
          "base_uri": "https://localhost:8080/"
        },
        "id": "SD7ycdR6Uob0",
        "outputId": "b9314954-e41e-4592-a964-fd72d1351196"
      },
      "source": [
        "numberList = [23, 123, 34, 8923, 3312, 312, 124, 134]\r\n",
        "\r\n",
        "def largestNumber(list):\r\n",
        "    newList = []\r\n",
        "    for number in list:\r\n",
        "        if number % 3 == 0:\r\n",
        "            newList.append(number)\r\n",
        "    print('Largest number is: ', max(newList))\r\n",
        "\r\n",
        "largestNumber(numberList)"
      ],
      "execution_count": null,
      "outputs": [
        {
          "output_type": "stream",
          "text": [
            "Largest number is:  3312\n"
          ],
          "name": "stdout"
        }
      ]
    },
    {
      "cell_type": "code",
      "metadata": {
        "colab": {
          "base_uri": "https://localhost:8080/"
        },
        "id": "zintE5V-Rjzs",
        "outputId": "198d0518-e79f-4e5e-bff2-b0ce65b19092"
      },
      "source": [
        "# 1234 // 23\r\n",
        "1234 % 3\r\n",
        "# 1234%5\r\n",
        "# 1234 // 10"
      ],
      "execution_count": null,
      "outputs": [
        {
          "output_type": "execute_result",
          "data": {
            "text/plain": [
              "1"
            ]
          },
          "metadata": {
            "tags": []
          },
          "execution_count": 116
        }
      ]
    },
    {
      "cell_type": "code",
      "metadata": {
        "colab": {
          "base_uri": "https://localhost:8080/",
          "height": 35
        },
        "id": "tg3cZoqjKJEa",
        "outputId": "122a1ebe-421c-4bba-8f7a-b3ca2c4392c4"
      },
      "source": [
        "def solution(message, K):\r\n",
        "    # write your code in Python 3.6\r\n",
        "    newSentence = message[:K]\r\n",
        "    messageSplit = message.split()\r\n",
        "    newSentenceSplit = newSentence.split()\r\n",
        "\r\n",
        "    newList = []\r\n",
        "\r\n",
        "    for word in newSentenceSplit:\r\n",
        "        if word in messageSplit:\r\n",
        "            newList.append(word)\r\n",
        "            pass\r\n",
        "    \r\n",
        "    return ' '.join(newList)\r\n",
        "    # return newSentence\r\n",
        "\r\n",
        "solution ('To crop or not to crop', 21)"
      ],
      "execution_count": null,
      "outputs": [
        {
          "output_type": "execute_result",
          "data": {
            "application/vnd.google.colaboratory.intrinsic+json": {
              "type": "string"
            },
            "text/plain": [
              "'To crop or not to'"
            ]
          },
          "metadata": {
            "tags": []
          },
          "execution_count": 120
        }
      ]
    },
    {
      "cell_type": "code",
      "metadata": {
        "colab": {
          "base_uri": "https://localhost:8080/"
        },
        "id": "7ObK2LOksv5z",
        "outputId": "c68f4186-39b9-46a4-e2c9-2287efdc0f91"
      },
      "source": [
        "def solution(message, k):\r\n",
        "    newSentence = message[:k]\r\n",
        "    messageSplit = message.split()\r\n",
        "    newSentenceSplit = newSentence.split()\r\n",
        "\r\n",
        "    newList = []\r\n",
        "    \r\n",
        "    for word in messageSplit:\r\n",
        "        if word in newSentenceSplit:\r\n",
        "            newList.append(word)\r\n",
        "            \r\n",
        "    return ' '.join(newList)\r\n",
        "\r\n",
        "\r\n",
        "m =\"Codility we test coders\"\r\n",
        "solution (m, 2)"
      ],
      "execution_count": null,
      "outputs": [
        {
          "output_type": "execute_result",
          "data": {
            "text/plain": [
              "['Codility', 'we', 'test', 'coders']"
            ]
          },
          "metadata": {
            "tags": []
          },
          "execution_count": 101
        }
      ]
    },
    {
      "cell_type": "code",
      "metadata": {
        "colab": {
          "base_uri": "https://localhost:8080/"
        },
        "id": "awkvp6oTlzZz",
        "outputId": "bea3b37c-480e-49b0-b7cb-4e034178911a"
      },
      "source": [
        "horsemen = [\"war\", \"famine\", \"pestilence\", \"death\"]\r\n",
        "\r\n",
        "for i in horsemen:\r\n",
        "    print(i)"
      ],
      "execution_count": null,
      "outputs": [
        {
          "output_type": "stream",
          "text": [
            "war\n",
            "famine\n",
            "pestilence\n",
            "death\n"
          ],
          "name": "stdout"
        }
      ]
    },
    {
      "cell_type": "code",
      "metadata": {
        "colab": {
          "base_uri": "https://localhost:8080/"
        },
        "id": "_Dk7ifWkghDn",
        "outputId": "b9821d5b-c3df-4223-dbb2-c429f92bf261"
      },
      "source": [
        "Sent = \"we test coders. we also very we run away! shouleders up, we run give us a try? \"\r\n",
        "\r\n",
        "\r\n",
        "def solution(s):\r\n",
        "    newList = []\r\n",
        "    newS = s.replace('!', '.').replace('?', '.').split('.')\r\n",
        "    newList.append((newS))\r\n",
        "\r\n",
        "    wordsList = []\r\n",
        "    for x in newList:\r\n",
        "        for y in x:\r\n",
        "            wordsList.append(len(y.split()))\r\n",
        "\r\n",
        "    return max(wordsList)\r\n",
        "    # return wordsList\r\n",
        "\r\n",
        "solution(Sent) "
      ],
      "execution_count": 3,
      "outputs": [
        {
          "output_type": "execute_result",
          "data": {
            "text/plain": [
              "[3, 6, 8, 0]"
            ]
          },
          "metadata": {
            "tags": []
          },
          "execution_count": 3
        }
      ]
    },
    {
      "cell_type": "code",
      "metadata": {
        "id": "UL_1Rwmztf6S"
      },
      "source": [
        ""
      ],
      "execution_count": null,
      "outputs": []
    }
  ]
}