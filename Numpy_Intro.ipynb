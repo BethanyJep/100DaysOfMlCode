{
  "nbformat": 4,
  "nbformat_minor": 0,
  "metadata": {
    "colab": {
      "name": "Numpy Intro.ipynb",
      "provenance": [],
      "authorship_tag": "ABX9TyNdxBYPmEjm+ZpFetZv2tCR",
      "include_colab_link": true
    },
    "kernelspec": {
      "name": "python3",
      "display_name": "Python 3"
    }
  },
  "cells": [
    {
      "cell_type": "markdown",
      "metadata": {
        "id": "view-in-github",
        "colab_type": "text"
      },
      "source": [
        "<a href=\"https://colab.research.google.com/github/InnCreator/100DaysOfMlCode/blob/master/Numpy_Intro.ipynb\" target=\"_parent\"><img src=\"https://colab.research.google.com/assets/colab-badge.svg\" alt=\"Open In Colab\"/></a>"
      ]
    },
    {
      "cell_type": "code",
      "metadata": {
        "id": "dtWusNQN5Ki3",
        "colab_type": "code",
        "colab": {
          "base_uri": "https://localhost:8080/",
          "height": 68
        },
        "outputId": "40995040-3ff5-4d76-d029-6746307dd351"
      },
      "source": [
        "# A list of lists in converted to a 2-dimensional array\n",
        "import numpy as np\n",
        "\n",
        "original_list = [[1,2,3],[3,4,5],[6,7,8]]\n",
        "two_dimensional_array = np.array(original_list)\n",
        "two_dimensional_array\n"
      ],
      "execution_count": 6,
      "outputs": [
        {
          "output_type": "execute_result",
          "data": {
            "text/plain": [
              "array([[1, 2, 3],\n",
              "       [3, 4, 5],\n",
              "       [6, 7, 8]])"
            ]
          },
          "metadata": {
            "tags": []
          },
          "execution_count": 6
        }
      ]
    },
    {
      "cell_type": "code",
      "metadata": {
        "id": "oGS23m4U6VPl",
        "colab_type": "code",
        "colab": {
          "base_uri": "https://localhost:8080/",
          "height": 34
        },
        "outputId": "4ac49880-7616-4b71-efea-c339e4d32814"
      },
      "source": [
        "np.arange(0, 20, 2)\n"
      ],
      "execution_count": 8,
      "outputs": [
        {
          "output_type": "execute_result",
          "data": {
            "text/plain": [
              "array([ 0,  2,  4,  6,  8, 10, 12, 14, 16, 18])"
            ]
          },
          "metadata": {
            "tags": []
          },
          "execution_count": 8
        }
      ]
    },
    {
      "cell_type": "code",
      "metadata": {
        "id": "uAuvqYh86big",
        "colab_type": "code",
        "colab": {
          "base_uri": "https://localhost:8080/",
          "height": 34
        },
        "outputId": "f0161e1e-c3c7-4e0b-eb4f-8b510f71a1fc"
      },
      "source": [
        "# An array of 5 numbers, linearly spaced between 0 and 1\n",
        "np.linspace(0, 1, 5)\n"
      ],
      "execution_count": 9,
      "outputs": [
        {
          "output_type": "execute_result",
          "data": {
            "text/plain": [
              "array([0.  , 0.25, 0.5 , 0.75, 1.  ])"
            ]
          },
          "metadata": {
            "tags": []
          },
          "execution_count": 9
        }
      ]
    },
    {
      "cell_type": "code",
      "metadata": {
        "id": "EXN8WuXN7Mzn",
        "colab_type": "code",
        "colab": {
          "base_uri": "https://localhost:8080/",
          "height": 85
        },
        "outputId": "3397156b-51ee-48ed-dcbe-3ccebf14ed1a"
      },
      "source": [
        "np.random.seed(0)\n",
        "x1 = np.random.randint(10, size=6)  \n",
        "# 1-dimensional array\n",
        "print(\"Number of dimensions: \", x1.ndim)\n",
        "print(\"Shape: \", x1.shape)\n",
        "print(\"Size: \", x1.size)\n",
        "print(\"Type: \", x1.dtype)"
      ],
      "execution_count": 10,
      "outputs": [
        {
          "output_type": "stream",
          "text": [
            "Number of dimensions:  1\n",
            "Shape:  (6,)\n",
            "Size:  6\n",
            "Type:  int64\n"
          ],
          "name": "stdout"
        }
      ]
    },
    {
      "cell_type": "code",
      "metadata": {
        "id": "ThLH36bp-arJ",
        "colab_type": "code",
        "colab": {
          "base_uri": "https://localhost:8080/",
          "height": 51
        },
        "outputId": "3a4eaa6c-2dc3-40ac-d5ba-1dc15fe13f6b"
      },
      "source": [
        "def calculate_inverse(values):    \n",
        "    output = np.empty(len(values))    \n",
        "    for i in range(len(values)):        \n",
        "        output[i] = 1.0 / values[i]    \n",
        "    return output       \n",
        "\n",
        "values = np.random.randint(1, 10, size=5)\n",
        "print(calculate_inverse(values))\n",
        "\n",
        "large_array = np.random.randint(1, 100, size=1000000)\n",
        "\n",
        "# This is a Jupyter notebook tool to measure the execution\n",
        "# time of an instruction\n",
        "%timeit calculate_inverse(large_array)"
      ],
      "execution_count": 11,
      "outputs": [
        {
          "output_type": "stream",
          "text": [
            "[0.25       0.16666667 0.33333333 0.2        0.125     ]\n",
            "1 loop, best of 3: 2.58 s per loop\n"
          ],
          "name": "stdout"
        }
      ]
    },
    {
      "cell_type": "code",
      "metadata": {
        "id": "HdZDg0OE-tzW",
        "colab_type": "code",
        "colab": {
          "base_uri": "https://localhost:8080/",
          "height": 119
        },
        "outputId": "abd52307-96a9-4efd-84e4-637e979aca78"
      },
      "source": [
        "# Simple mathematics first\n",
        "x = np.arange(4)\n",
        "print(\"x     =\", x)\n",
        "print(\"x + 5 =\", x + 5)\n",
        "print(\"x - 5 =\", x - 5)\n",
        "print(\"x * 2 =\", x * 2)\n",
        "print(\"x / 2 =\", x / 2)\n",
        "# Divide and round\n",
        "print(\"x // 2 =\", x // 2)  "
      ],
      "execution_count": 12,
      "outputs": [
        {
          "output_type": "stream",
          "text": [
            "x     = [0 1 2 3]\n",
            "x + 5 = [5 6 7 8]\n",
            "x - 5 = [-5 -4 -3 -2]\n",
            "x * 2 = [0 2 4 6]\n",
            "x / 2 = [0.  0.5 1.  1.5]\n",
            "x // 2 = [0 0 1 1]\n"
          ],
          "name": "stdout"
        }
      ]
    }
  ]
}