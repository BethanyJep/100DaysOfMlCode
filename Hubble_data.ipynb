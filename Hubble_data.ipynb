{
  "nbformat": 4,
  "nbformat_minor": 0,
  "metadata": {
    "colab": {
      "name": "Hubble data.ipynb",
      "provenance": [],
      "authorship_tag": "ABX9TyMs5W4UdbTMv0chRqg+6y5G",
      "include_colab_link": true
    },
    "kernelspec": {
      "name": "python3",
      "display_name": "Python 3"
    }
  },
  "cells": [
    {
      "cell_type": "markdown",
      "metadata": {
        "id": "view-in-github",
        "colab_type": "text"
      },
      "source": [
        "<a href=\"https://colab.research.google.com/github/InnCreator/100DaysOfMlCode/blob/master/Hubble_data.ipynb\" target=\"_parent\"><img src=\"https://colab.research.google.com/assets/colab-badge.svg\" alt=\"Open In Colab\"/></a>"
      ]
    },
    {
      "cell_type": "markdown",
      "metadata": {
        "id": "kmcUDDM8Ywj7",
        "colab_type": "text"
      },
      "source": [
        "Your task is to load the content of this file, look at the data it contains, and perform a linear regression between the two variables: distance and velocity.\n",
        "\n",
        "To do this regression, you must use the scikit-learn library. \n",
        "\n",
        "Visualize your results with a quality graph \n",
        "The graph must include both data points and the curve obtained through linear regression."
      ]
    },
    {
      "cell_type": "markdown",
      "metadata": {
        "id": "7CgPah-HY6mE",
        "colab_type": "text"
      },
      "source": [
        "##Evaluation Metric\n",
        "\n",
        "Plot both the data points (and the line fitted to the data) on the same graph\n",
        "\n",
        "The plot is readable and clean "
      ]
    },
    {
      "cell_type": "code",
      "metadata": {
        "id": "cuzMALz4Yl6s",
        "colab_type": "code",
        "colab": {}
      },
      "source": [
        "import numpy as np\n",
        "import seaborn as sns\n",
        "import pandas as pd\n",
        "import matplotlib.pyplot as plt\n",
        "from sklearn.linear_model import LinearRegression"
      ],
      "execution_count": 0,
      "outputs": []
    },
    {
      "cell_type": "code",
      "metadata": {
        "id": "mdyjHKIuZstc",
        "colab_type": "code",
        "outputId": "c957bf5c-146f-4571-8155-30011846bf6a",
        "colab": {
          "base_uri": "https://localhost:8080/",
          "height": 458
        }
      },
      "source": [
        "from numpy import genfromtxt\n",
        "\n",
        "data = 'https://s3-eu-west-1.amazonaws.com/static.oc-static.com/prod/courses/files/Parcours_data_scientist/decouvrez-les-librairies-python-pour-la-data-science/hubble_data.csv'\n",
        "hubble = genfromtxt(data, delimiter=',',usecols=np.arange(0,2), skip_header=1)\n",
        "hubble"
      ],
      "execution_count": 3,
      "outputs": [
        {
          "output_type": "execute_result",
          "data": {
            "text/plain": [
              "array([[ 3.20e-02,  1.70e+02],\n",
              "       [ 3.40e-02,  2.90e+02],\n",
              "       [ 2.14e-01, -1.30e+02],\n",
              "       [ 2.63e-01, -7.00e+01],\n",
              "       [ 2.75e-01, -1.85e+02],\n",
              "       [ 2.75e-01, -2.20e+02],\n",
              "       [ 4.50e-01,  2.00e+02],\n",
              "       [ 5.00e-01,  2.90e+02],\n",
              "       [ 5.00e-01,  2.70e+02],\n",
              "       [ 6.30e-01,  2.00e+02],\n",
              "       [ 8.00e-01,  3.00e+02],\n",
              "       [ 9.00e-01, -3.00e+01],\n",
              "       [ 9.00e-01,  6.50e+02],\n",
              "       [ 9.00e-01,  1.50e+02],\n",
              "       [ 9.00e-01,  5.00e+02],\n",
              "       [ 1.00e+00,  9.20e+02],\n",
              "       [ 1.10e+00,  4.50e+02],\n",
              "       [ 1.10e+00,  5.00e+02],\n",
              "       [ 1.40e+00,  5.00e+02],\n",
              "       [ 1.70e+00,  9.60e+02],\n",
              "       [ 2.00e+00,  5.00e+02],\n",
              "       [ 2.00e+00,  8.50e+02],\n",
              "       [ 2.00e+00,  8.00e+02],\n",
              "       [ 2.00e+00,  1.09e+03]])"
            ]
          },
          "metadata": {
            "tags": []
          },
          "execution_count": 3
        }
      ]
    },
    {
      "cell_type": "code",
      "metadata": {
        "id": "u-D9DwTmL0Jm",
        "colab_type": "code",
        "colab": {
          "base_uri": "https://localhost:8080/",
          "height": 35
        },
        "outputId": "ee6a4b72-b055-4c8a-d46f-6e6dbcdf9c80"
      },
      "source": [
        "hubble.shape"
      ],
      "execution_count": 10,
      "outputs": [
        {
          "output_type": "execute_result",
          "data": {
            "text/plain": [
              "(24, 2)"
            ]
          },
          "metadata": {
            "tags": []
          },
          "execution_count": 10
        }
      ]
    },
    {
      "cell_type": "code",
      "metadata": {
        "id": "ZS1pfmnXEKSw",
        "colab_type": "code",
        "colab": {}
      },
      "source": [
        "x = hubble[0::2]\n",
        "y = hubble[1::2]\n",
        "lm = LinearRegression()\n",
        "model = lm.fit(x,y)"
      ],
      "execution_count": 0,
      "outputs": []
    },
    {
      "cell_type": "code",
      "metadata": {
        "id": "PiC4t4hEL5hU",
        "colab_type": "code",
        "colab": {
          "base_uri": "https://localhost:8080/",
          "height": 35
        },
        "outputId": "d3643ece-106b-4b86-8bac-1000ae142a6e"
      },
      "source": [
        "model"
      ],
      "execution_count": 16,
      "outputs": [
        {
          "output_type": "execute_result",
          "data": {
            "text/plain": [
              "LinearRegression(copy_X=True, fit_intercept=True, n_jobs=None, normalize=False)"
            ]
          },
          "metadata": {
            "tags": []
          },
          "execution_count": 16
        }
      ]
    },
    {
      "cell_type": "code",
      "metadata": {
        "id": "JMR5Or-8NqAq",
        "colab_type": "code",
        "colab": {
          "base_uri": "https://localhost:8080/",
          "height": 237
        },
        "outputId": "da1d1d62-b634-4452-b094-c1ae88ac8da1"
      },
      "source": [
        "x = lm.predict(x)\n",
        "x"
      ],
      "execution_count": 18,
      "outputs": [
        {
          "output_type": "execute_result",
          "data": {
            "text/plain": [
              "array([[ 8.81462024e-02,  3.23799607e+01],\n",
              "       [ 2.63360214e-01, -8.12970374e+01],\n",
              "       [ 3.23146063e-01, -9.29456311e+01],\n",
              "       [ 5.07297521e-01,  1.88848974e+02],\n",
              "       [ 5.58981127e-01,  2.46132513e+02],\n",
              "       [ 8.60004567e-01,  3.63348993e+02],\n",
              "       [ 9.68260036e-01,  5.99869399e+02],\n",
              "       [ 9.64768423e-01,  5.12759879e+02],\n",
              "       [ 1.16382130e+00,  5.50253089e+02],\n",
              "       [ 1.46531028e+00,  6.79084172e+02],\n",
              "       [ 2.06596052e+00,  8.78673324e+02],\n",
              "       [ 2.07294375e+00,  1.05289236e+03]])"
            ]
          },
          "metadata": {
            "tags": []
          },
          "execution_count": 18
        }
      ]
    },
    {
      "cell_type": "code",
      "metadata": {
        "id": "h7d3K_i2Nxp9",
        "colab_type": "code",
        "colab": {
          "base_uri": "https://localhost:8080/",
          "height": 237
        },
        "outputId": "ee90e647-ad52-456b-db7e-38d795970666"
      },
      "source": [
        "y = lm.predict(y)\n",
        "y"
      ],
      "execution_count": 19,
      "outputs": [
        {
          "output_type": "execute_result",
          "data": {
            "text/plain": [
              "array([[ 9.29416602e-02,  1.02732874e+02],\n",
              "       [ 3.13809962e-01, -3.01534485e+01],\n",
              "       [ 3.22331354e-01, -1.13271186e+02],\n",
              "       [ 5.59446675e-01,  2.57747116e+02],\n",
              "       [ 6.87492592e-01,  2.48725720e+02],\n",
              "       [ 9.52431391e-01,  2.04972907e+02],\n",
              "       [ 9.56621326e-01,  3.09504331e+02],\n",
              "       [ 1.07465331e+00,  7.89931395e+02],\n",
              "       [ 1.16498517e+00,  5.79289596e+02],\n",
              "       [ 1.77634302e+00,  1.04601461e+03],\n",
              "       [ 2.07410762e+00,  1.08192887e+03],\n",
              "       [ 2.07969420e+00,  1.22130410e+03]])"
            ]
          },
          "metadata": {
            "tags": []
          },
          "execution_count": 19
        }
      ]
    },
    {
      "cell_type": "code",
      "metadata": {
        "id": "dIml2ih8OAUu",
        "colab_type": "code",
        "colab": {
          "base_uri": "https://localhost:8080/",
          "height": 302
        },
        "outputId": "d08c9897-11ca-42a6-acf6-782a997c714c"
      },
      "source": [
        "fig = plt.figure()\n",
        "ax = plt.axes()\n",
        "ax.plot(x, y)"
      ],
      "execution_count": 20,
      "outputs": [
        {
          "output_type": "execute_result",
          "data": {
            "text/plain": [
              "[<matplotlib.lines.Line2D at 0x7f8f1e7d0c18>,\n",
              " <matplotlib.lines.Line2D at 0x7f8f1e752588>]"
            ]
          },
          "metadata": {
            "tags": []
          },
          "execution_count": 20
        },
        {
          "output_type": "display_data",
          "data": {
            "image/png": "[encoded data removed]",
            "text/plain": [
              "<Figure size 432x288 with 1 Axes>"
            ]
          },
          "metadata": {
            "tags": []
          }
        }
      ]
    }
  ]
}