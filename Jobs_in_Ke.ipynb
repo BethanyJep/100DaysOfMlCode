{
  "nbformat": 4,
  "nbformat_minor": 0,
  "metadata": {
    "colab": {
      "name": "Jobs in Ke.ipynb",
      "provenance": [],
      "collapsed_sections": [],
      "include_colab_link": true
    },
    "kernelspec": {
      "name": "python3",
      "display_name": "Python 3"
    }
  },
  "cells": [
    {
      "cell_type": "markdown",
      "metadata": {
        "id": "view-in-github",
        "colab_type": "text"
      },
      "source": [
        "<a href=\"https://colab.research.google.com/github/BethanyJep/100DaysOfMlCode/blob/master/Jobs_in_Ke.ipynb\" target=\"_parent\"><img src=\"https://colab.research.google.com/assets/colab-badge.svg\" alt=\"Open In Colab\"/></a>"
      ]
    },
    {
      "cell_type": "markdown",
      "metadata": {
        "id": "gevV5ZTyVEsz"
      },
      "source": [
        "###Importing necesarry libraries"
      ]
    },
    {
      "cell_type": "code",
      "metadata": {
        "id": "ZLidb3NHZtAH"
      },
      "source": [
        "# pip install tweepy"
      ],
      "execution_count": null,
      "outputs": []
    },
    {
      "cell_type": "code",
      "metadata": {
        "id": "FAxYGOy1Q-JA"
      },
      "source": [
        "#Getting the necessary libraries\n",
        "import tweepy as tweepy\n",
        "from tweepy import Stream\n",
        "from tweepy import OAuthHandler\n",
        "from tweepy.streaming import StreamListener\n",
        "import time\n",
        "import json\n",
        "import pandas as pd\n",
        "import matplotlib.pyplot as plt\n",
        "\n",
        "import csv\n",
        "import re #regular expression\n",
        "from textblob import TextBlob\n",
        "import string"
      ],
      "execution_count": null,
      "outputs": []
    },
    {
      "cell_type": "code",
      "metadata": {
        "id": "2OmMt5zERb66"
      },
      "source": [
        "#consumer keys\n",
        "consumerKey = \"fslgtxGRaV0NooQSyV6bMO8JK\"\n",
        "consumerSecret = \"CQLaOZU9dhT2AALorcu2KxC9rfNpC4ifu0QvtwnDUlHvrEjTxE\"\n",
        "accessKey = \"924336306481754113-J80n52buzVcvRag0bGI1jUVmaE8TxxY\"\n",
        "accessSecret = \"jnAEuQlSXlFnilRbtiPMr1inhRhVMihBDZFNBeJDExqrE\""
      ],
      "execution_count": null,
      "outputs": []
    },
    {
      "cell_type": "code",
      "metadata": {
        "id": "_WF_mqYhS78C"
      },
      "source": [
        "auth = OAuthHandler(consumerKey, consumerSecret)\n",
        "auth.set_access_token(accessKey, accessSecret)\n",
        "\n",
        "api = tweepy.API(auth)\n",
        "\n"
      ],
      "execution_count": null,
      "outputs": []
    },
    {
      "cell_type": "code",
      "metadata": {
        "id": "SB2X9mywaAq7"
      },
      "source": [
        "search_words = [\"#IkoKaziKE\", '#ikokazi', 'Iko Kazi KE','#ikokazike', '#PataKaziKE', 'my next client might be on your TL', '#KOT', '#KenyansOnTwitter', '#ShareMyHustle', '+254', '07', 'hiring', 'We are hiring ']\n",
        "date_since = \"2020-7-10\"\n",
        "#Combine keywords\n",
        "#try to search for youth e.g. #Vijana \n",
        "#Scrape individuals AjiraKE, IkoKaziKE, IkoKaziKenya\n"
      ],
      "execution_count": null,
      "outputs": []
    },
    {
      "cell_type": "code",
      "metadata": {
        "id": "_0V_4zkJcgfF",
        "outputId": "47d43c6c-70b4-4194-8a76-f1441977d460",
        "colab": {
          "base_uri": "https://localhost:8080/",
          "height": 238
        }
      },
      "source": [
        "Our_tweets = []\n",
        "for search_word in search_words:\n",
        "  # filters out retweets to remove duplicates\n",
        "  new_search = search_word + \" -filter:retweets\"\n",
        "  tweets = tweepy.Cursor(api.search,\n",
        "                  q=new_search, since=date_since).items(100)\n",
        "  Our_tweets.append(tweets)\n",
        "Our_tweets"
      ],
      "execution_count": null,
      "outputs": [
        {
          "output_type": "execute_result",
          "data": {
            "text/plain": [
              "[<tweepy.cursor.ItemIterator at 0x7f3a737f9128>,\n",
              " <tweepy.cursor.ItemIterator at 0x7f3a737f9470>,\n",
              " <tweepy.cursor.ItemIterator at 0x7f3a737f9828>,\n",
              " <tweepy.cursor.ItemIterator at 0x7f3a737f9be0>,\n",
              " <tweepy.cursor.ItemIterator at 0x7f3a737f9f98>,\n",
              " <tweepy.cursor.ItemIterator at 0x7f3a73809390>,\n",
              " <tweepy.cursor.ItemIterator at 0x7f3a73809748>,\n",
              " <tweepy.cursor.ItemIterator at 0x7f3a73809b00>,\n",
              " <tweepy.cursor.ItemIterator at 0x7f3a73809eb8>,\n",
              " <tweepy.cursor.ItemIterator at 0x7f3a738152b0>,\n",
              " <tweepy.cursor.ItemIterator at 0x7f3a73815668>,\n",
              " <tweepy.cursor.ItemIterator at 0x7f3a73815a20>,\n",
              " <tweepy.cursor.ItemIterator at 0x7f3a73815dd8>]"
            ]
          },
          "metadata": {
            "tags": []
          },
          "execution_count": 6
        }
      ]
    },
    {
      "cell_type": "code",
      "metadata": {
        "id": "NtYVBsoEc0Jp"
      },
      "source": [
        "def remove_url(txt):\n",
        "  return \" \".join(re.sub(\"([^0-9A-Za-z \\t])|(\\w+:\\/\\/\\S+)\", \"\", txt).split())"
      ],
      "execution_count": null,
      "outputs": []
    },
    {
      "cell_type": "code",
      "metadata": {
        "id": "xc2_YRr2oGyQ",
        "outputId": "c5a07b84-3ac6-4c04-d313-823b75e2354e",
        "colab": {
          "base_uri": "https://localhost:8080/",
          "height": 510
        }
      },
      "source": [
        "users_locs=[]\n",
        "all_split_tweets=[]\n",
        "for tweets in Our_tweets:\n",
        "  for tweet in tweets:\n",
        "    if tweet.user.location == 'Nairobi' or tweet.user.location == 'Mombasa' or tweet.user.location == 'Eldoret':\n",
        "      tweets_no_url = remove_url(tweet.text)\n",
        "      all_split_tweets.append(tweets_no_url.lower().split())\n",
        "      users_locs.append([tweet.user.screen_name, tweet.user.location, tweets_no_url])\n",
        "\n",
        "users_locs "
      ],
      "execution_count": null,
      "outputs": [
        {
          "output_type": "execute_result",
          "data": {
            "text/plain": [
              "[['machuki_fred',\n",
              "  'Nairobi',\n",
              "  'KisumuWheelBarrow IkoKaziKE RutoByForce here is a job opportunity hurstlers'],\n",
              " ['its_bonnnie',\n",
              "  'Nairobi',\n",
              "  'Please retweet and share My NEXT client might be on your TLIm YOUR trusted top tier car dealer if youre looki'],\n",
              " ['its_bonnnie',\n",
              "  'Nairobi',\n",
              "  'Kindly retweet and Share My NEXT Client might be on your TLAre you shopping for a car Want to trade in your old'],\n",
              " ['KCSPOG',\n",
              "  'Nairobi',\n",
              "  'Fuel prices are expected fall with the completion of the new Kipevu Oil Terminal KOT This will translate to sav'],\n",
              " ['NyamburaToday',\n",
              "  'Nairobi',\n",
              "  'The Purewell Water Purifier filters out impurities out of the water and leaves you with healthy drinking water with'],\n",
              " ['MMahila',\n",
              "  'Nairobi',\n",
              "  'EVERYDAY IS A MARKET DAYI SELL OMENA AT AN AFFORDABLE PRICE SUN DRIED CLEAN OMENA 1 Gorogoro 2 kg tin Ksh'],\n",
              " ['michelle_ajema',\n",
              "  'Nairobi',\n",
              "  'Satin bonnets bei ya jioni wadausharemyhustle IkoKaziKe'],\n",
              " ['Kins_254', 'Mombasa', 'kambaqueen Uko na gani latest unipe link'],\n",
              " ['klaus_254',\n",
              "  'Nairobi',\n",
              "  'AtheistsInKenya Maybe And he had a great influence than Wanyonyi'],\n",
              " ['KenyanTraffic',\n",
              "  'Nairobi',\n",
              "  'KeNHAKenya ntsakenya Very few roads in 254 have designated pedestrian walking and crossing paths No wonder the'],\n",
              " ['brian_scotts1', 'Nairobi', '254icon Achana na jalas']]"
            ]
          },
          "metadata": {
            "tags": []
          },
          "execution_count": 12
        }
      ]
    },
    {
      "cell_type": "code",
      "metadata": {
        "id": "MnAAhP4yoQYi"
      },
      "source": [
        "df = pd.DataFrame(data=users_locs,\n",
        "                 columns=['User', 'Location', 'Tweet'])\n",
        "df"
      ],
      "execution_count": null,
      "outputs": []
    },
    {
      "cell_type": "code",
      "metadata": {
        "id": "ivYidUtWofzA"
      },
      "source": [
        "df.info"
      ],
      "execution_count": null,
      "outputs": []
    },
    {
      "cell_type": "code",
      "metadata": {
        "id": "tu7eoTDfosiJ"
      },
      "source": [
        "df.describe()"
      ],
      "execution_count": null,
      "outputs": []
    },
    {
      "cell_type": "code",
      "metadata": {
        "id": "dTpTZ_BipsfA"
      },
      "source": [
        "from google.colab import drive\n",
        "drive.mount('drive')"
      ],
      "execution_count": null,
      "outputs": []
    },
    {
      "cell_type": "code",
      "metadata": {
        "id": "9hgHd1ubDVLV"
      },
      "source": [
        "df.to_csv('data1.csv')\n",
        "!cp data1.csv \"drive/My Drive/\""
      ],
      "execution_count": null,
      "outputs": []
    }
  ]
}